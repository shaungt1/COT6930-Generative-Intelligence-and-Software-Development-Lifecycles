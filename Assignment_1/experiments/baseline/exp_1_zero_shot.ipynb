{
 "cells": [
  {
   "cell_type": "markdown",
   "metadata": {},
   "source": [
    "\n",
    "\n"
   ]
  },
  {
   "cell_type": "markdown",
   "metadata": {},
   "source": [
    "# Zero-Shot Prompting\n",
    "\n",
    "Zero-shot prompting refers to a technique in prompt engineering where you provide a model with a task without any prior examples. The model is expected to understand and generate a response or complete the task purely based on the given instruction.\n",
    "\n",
    "In other words, the model is given \"zero\" prior training examples or demonstrations in the prompt and relies on its pre-trained knowledge to infer what is needed.\n",
    "\n",
    "## References:\n",
    "* [Wei et al. (2022)](https://arxiv.org/pdf/2109.01652.pdf): demonstrate how instruction tuning improves zero-shot learning "
   ]
  },
  {
   "cell_type": "code",
   "execution_count": 1,
   "metadata": {},
   "outputs": [
    {
     "name": "stdout",
     "output_type": "stream",
     "text": [
      "Prompt loaded successfully:\n",
      " Baseline Prompt ():\n",
      "\n",
      "System Role:\n",
      "\"You are an AI business evaluation assistant. Your goal is to determine whether a software business idea is viable. Start by gathering essential details from the user in a single interaction. Ask the user to describe their business idea, including the problem it solves, the uniqueness of the solution, the target audience, and the planned revenue model. Capture their full response before analyzing. Then, assess the clarity of their input, identifying any missing or ambiguous details such as market demand, competition, or scalability. Provide an initial feasibility rating based only on explicit user-provided information. Conclude with a high-level recommendation on whether further structured evaluation is needed.\n",
      "\n",
      "\n",
      "Qestions Examples: \"Describe your software business idea. What problem does it solve, and how is it different from existing solutions? Who is your target audience, and how do you plan to make money from it?\"\n",
      "\n",
      "Steps to Implement and Test:\n",
      "\n",
      "- Present this broad, open-ended prompt to users without additional structure.\n",
      "- Capture their responses and assess completeness, clarity, and relevance.\n",
      "- Identify missing or ambiguous details, such as unclear market focus or weak differentiation.\n",
      "- Log responses and analyze whether users struggle to provide critical details without guidance.\n",
      "- Use these results to compare against structured questioning methods.\n",
      "\n",
      "Guidlines:\n",
      "Analyze the following business idea by identifying its core problem, proposed solution, and market relevance. Extract the problem significance based on user input and determine if there is a clear market demand. Assess whether the proposed solution introduces meaningful differentiation or novelty. If competitor data is available, evaluate how existing solutions address this problem and whether the new concept has a competitive edge. Provide an initial feasibility rating based on these factors, ensuring the assessment remains grounded in explicit user-provided information rather than assumptions. Conclude with a high-level recommendation on whether further evaluation is warranted.\"\n",
      "\n",
      "Expected Outcome:\n",
      "Users will provide varied levels of detail, often omitting critical business factors such as competition, technical feasibility, or scalability. This test establishes a baseline for how much structured guidance improves response quality.\n",
      "\n",
      "\n"
     ]
    }
   ],
   "source": [
    "import os\n",
    "\n",
    "file_path = \"./baseline_prompt.txt\"\n",
    "\n",
    "if os.path.exists(file_path):\n",
    "    with open(file_path, \"r\", encoding=\"utf-8\") as file:\n",
    "        baseline_prompt = file.read()\n",
    "    print(\"Prompt loaded successfully:\\n\", baseline_prompt)\n",
    "else:\n",
    "    print(\"Error: File not found at\", os.path.abspath(file_path))\n"
   ]
  },
  {
   "cell_type": "code",
   "execution_count": 2,
   "metadata": {},
   "outputs": [
    {
     "name": "stdout",
     "output_type": "stream",
     "text": [
      "{'model': 'llama3.3:latest', 'prompt': 'Baseline Prompt ():\\n\\nSystem Role:\\n\"You are an AI business evaluation assistant. Your goal is to determine whether a software business idea is viable. Start by gathering essential details from the user in a single interaction. Ask the user to describe their business idea, including the problem it solves, the uniqueness of the solution, the target audience, and the planned revenue model. Capture their full response before analyzing. Then, assess the clarity of their input, identifying any missing or ambiguous details such as market demand, competition, or scalability. Provide an initial feasibility rating based only on explicit user-provided information. Conclude with a high-level recommendation on whether further structured evaluation is needed.\\n\\n\\nQestions Examples: \"Describe your software business idea. What problem does it solve, and how is it different from existing solutions? Who is your target audience, and how do you plan to make money from it?\"\\n\\nSteps to Implement and Test:\\n\\n- Present this broad, open-ended prompt to users without additional structure.\\n- Capture their responses and assess completeness, clarity, and relevance.\\n- Identify missing or ambiguous details, such as unclear market focus or weak differentiation.\\n- Log responses and analyze whether users struggle to provide critical details without guidance.\\n- Use these results to compare against structured questioning methods.\\n\\nGuidlines:\\nAnalyze the following business idea by identifying its core problem, proposed solution, and market relevance. Extract the problem significance based on user input and determine if there is a clear market demand. Assess whether the proposed solution introduces meaningful differentiation or novelty. If competitor data is available, evaluate how existing solutions address this problem and whether the new concept has a competitive edge. Provide an initial feasibility rating based on these factors, ensuring the assessment remains grounded in explicit user-provided information rather than assumptions. Conclude with a high-level recommendation on whether further evaluation is warranted.\"\\n\\nExpected Outcome:\\nUsers will provide varied levels of detail, often omitting critical business factors such as competition, technical feasibility, or scalability. This test establishes a baseline for how much structured guidance improves response quality.\\n\\n', 'stream': False, 'options': {'temperature': 1.0, 'num_ctx': 100, 'num_predict': 100}}\n",
      "!!ERROR!! HTTP Response=500, {\"error\":\"llama runner process has terminated: error loading model: unable to allocate backend buffer\"}\n",
      "Time taken: -1s\n"
     ]
    }
   ],
   "source": [
    "##\n",
    "## ZERO SHOT PROMPTING\n",
    "##\n",
    "\n",
    "from _pipeline import create_payload, model_req\n",
    "\n",
    "#### (1) Adjust the inbounding  Prompt, simulating inbounding requests from users or other systems\n",
    "MESSAGE = baseline_prompt\n",
    "\n",
    "#### (2) Adjust the Prompt Engineering Technique to be applied, simulating Workflow Templates\n",
    "PROMPT = MESSAGE \n",
    "\n",
    "#### (3) Configure the Model request, simulating Workflow Orchestration\n",
    "# Documentation: https://github.com/ollama/ollama/blob/main/docs/api.md\n",
    "payload = create_payload(target=\"ollama\",\n",
    "                         model=\"llama3.3:latest\", \n",
    "                         prompt=PROMPT, \n",
    "                         temperature=1.0, \n",
    "                         num_ctx=100, \n",
    "                         num_predict=100)\n",
    "\n",
    "### YOU DONT NEED TO CONFIGURE ANYTHING ELSE FROM THIS POINT\n",
    "# Send out to the model\n",
    "time, response = model_req(payload=payload)\n",
    "print(response)\n",
    "if time: print(f'Time taken: {time}s')"
   ]
  },
  {
   "cell_type": "markdown",
   "metadata": {},
   "source": [
    "---\n",
    "\n",
    "## How to improve it?\n",
    "\n",
    "* **Use Clear and Concise Instructions**: Be specific about the task and desired format.\n",
    "    * Bad Prompt: “Summarize this.”\n",
    "    * Good Prompt: “Summarize this paragraph in one sentence.”\n",
    "* **Add Context**: Providing background can help the model interpret ambiguous prompts better.\n",
    "* **Specify Output Format**: If a particular structure is needed, describe it in the instruction."
   ]
  }
 ],
 "metadata": {
  "kernelspec": {
   "display_name": "PROMPTLABENV",
   "language": "python",
   "name": "python3"
  },
  "language_info": {
   "codemirror_mode": {
    "name": "ipython",
    "version": 3
   },
   "file_extension": ".py",
   "mimetype": "text/x-python",
   "name": "python",
   "nbconvert_exporter": "python",
   "pygments_lexer": "ipython3",
   "version": "3.11.5"
  }
 },
 "nbformat": 4,
 "nbformat_minor": 2
}
