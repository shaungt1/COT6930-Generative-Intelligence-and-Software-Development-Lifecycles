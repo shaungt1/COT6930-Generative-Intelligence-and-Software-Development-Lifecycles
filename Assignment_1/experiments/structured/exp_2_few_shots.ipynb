{
 "cells": [
  {
   "cell_type": "markdown",
   "metadata": {},
   "source": [
    "\n",
    "\n"
   ]
  },
  {
   "cell_type": "markdown",
   "metadata": {},
   "source": [
    "# Few-Shots Prompting\n",
    "\n",
    "Few-shot prompting can be used as a technique to enable in-context learning where we provide demonstrations in the prompt to steer the model to better performance. The demonstrations serve as conditioning for subsequent examples where we would like the model to generate a response.\n",
    "\n",
    "## References:\n",
    "* [Touvron et al. 2023](https://arxiv.org/pdf/2302.13971.pdf): present few shot properties  when models were scaled to a sufficient size\n",
    "* [Kaplan et al., 2020](https://arxiv.org/abs/2001.08361)\n",
    "* [Brown et al. 2020](https://arxiv.org/abs/2005.14165)\n"
   ]
  },
  {
   "cell_type": "code",
   "execution_count": 1,
   "metadata": {},
   "outputs": [
    {
     "name": "stdout",
     "output_type": "stream",
     "text": [
      "Prompt loaded successfully:\n",
      " ### **Few-Shot Prompt (Structured Evaluation with Examples)**  \n",
      "\n",
      "**System Role:**  \n",
      "\"You are an AI business evaluation assistant. Your objective is to determine the viability of a software business idea by gathering structured details from the user and assessing feasibility. Use few-shot prompting to provide examples of well-structured business ideas before requesting input. This will guide the user toward clearer, more complete responses. Then, assess the completeness of their input, highlighting any missing key details such as market demand, competition, or scalability. Provide an initial feasibility rating based only on explicit user-provided information and conclude with a high-level recommendation on whether further structured evaluation is necessary.\"\n",
      "\n",
      "\n",
      "**Examples:**  \n",
      "\n",
      "**Example 1:**  \n",
      "**User Input:** \"I am building an AI-powered resume analyzer that helps job seekers tailor their applications. The software scans resumes, compares them against job descriptions, and suggests specific improvements to increase hiring chances. It is different because it provides real-time feedback instead of generic template-based suggestions. The target audience includes job seekers and HR professionals. The revenue model is a freemium approach, offering basic scanning for free and premium AI-driven insights as a paid subscription.\"  \n",
      "\n",
      "**AI Evaluation:**  \n",
      "- **Problem Significance:** The problem is well-defined (job seekers struggle with optimizing resumes).  \n",
      "- **Solution Feasibility:** Clearly articulated AI-powered solution, distinct from competitors.  \n",
      "- **Market Relevance:** Strong market need with existing demand (LinkedIn optimization tools, resume-writing services).  \n",
      "- **Gaps Identified:** Competitive landscape not mentioned. Monetization model feasible but needs validation.  \n",
      "**Preliminary Feasibility Rating:** **Moderate** – Needs competitor analysis before moving forward.  \n",
      "**Recommendation:** **Proceed with structured feasibility analysis.**  \n",
      "\n",
      "\n",
      "**Example 2:**  \n",
      "**User Input:** \"I want to create a social media platform for local businesses to connect with customers. The app allows businesses to post updates and users to find promotions nearby. It’s different from Facebook because it focuses only on businesses. The audience is small business owners and local shoppers. Revenue will come from business subscriptions.\"  \n",
      "\n",
      "**AI Evaluation:**  \n",
      "- **Problem Significance:** Unclear if customers actively need another local business discovery tool.  \n",
      "- **Solution Feasibility:** Lacks differentiation—Facebook and Yelp already provide similar services.  \n",
      "- **Market Relevance:** Local business marketing is a crowded space; app adoption may be challenging.  \n",
      "- **Gaps Identified:** No discussion on scalability, competitive barriers, or unique value proposition.  \n",
      "**Preliminary Feasibility Rating:** **Low** – Lacks clear differentiation and market demand validation.  \n",
      "**Recommendation:** **Reconsider or refine before further evaluation.**  \n",
      "\n",
      "\n",
      "### **User Input Request (Now Asking for User's Idea)**  \n",
      "\"Now, describe your software business idea following the examples above. Include:  \n",
      "- The problem it solves  \n",
      "- How it is different from existing solutions  \n",
      "- Who your target audience is  \n",
      "- How you plan to generate revenue\"  \n",
      "\n",
      "---\n",
      "\n",
      "### **Steps to Implement and Test:**  \n",
      "- Provide users with structured examples before prompting them for input.  \n",
      "- Compare user responses to the examples and assess completeness, clarity, and relevance.  \n",
      "- Identify missing details, such as unclear market focus or weak differentiation.  \n",
      "- Log responses and analyze whether few-shot guidance improves response quality.  \n",
      "- Compare against the baseline and analyze whether users struggle less with providing structured details.  \n",
      "\n",
      "---\n",
      "\n",
      "### **Guidelines for Analysis:**  \n",
      "- Evaluate the business idea by identifying its core problem, proposed solution, and market relevance.  \n",
      "- Extract the problem significance based on user input and determine if there is a clear market demand.  \n",
      "- Assess whether the proposed solution introduces meaningful differentiation or novelty.  \n",
      "- If competitor data is available, evaluate how existing solutions address this problem and whether the new concept has a competitive edge.  \n",
      "- Provide an initial feasibility rating based on these factors, ensuring the assessment remains grounded in explicit user-provided information rather than assumptions.  \n",
      "- Conclude with a high-level recommendation on whether further evaluation is warranted.  \n",
      "\n",
      "---\n",
      "\n",
      "### **Expected Outcome:**  \n",
      "By providing structured examples before prompting the user, their responses should be more complete and focused. Unlike the baseline test, where users may omit critical details, this approach should improve clarity and reduce the need for follow-up questions. The structured evaluation will also make it easier to compare responses against predefined feasibility criteria.\n"
     ]
    }
   ],
   "source": [
    "import os\n",
    "\n",
    "file_path = \"./structured_prompt.txt\"\n",
    "\n",
    "if os.path.exists(file_path):\n",
    "    with open(file_path, \"r\", encoding=\"utf-8\") as file:\n",
    "        structured_few_shot_prompt = file.read()\n",
    "    print(\"Prompt loaded successfully:\\n\", structured_few_shot_prompt)\n",
    "else:\n",
    "    print(\"Error: File not found at\", os.path.abspath(file_path))\n"
   ]
  },
  {
   "cell_type": "code",
   "execution_count": 2,
   "metadata": {},
   "outputs": [],
   "source": [
    "SYSTEM_ROLE = \"\"\"**System Role:**  \n",
    "\"You are an AI business evaluation assistant. Your objective is to determine the viability of a software business idea by gathering structured details from the user and assessing feasibility. Use few-shot prompting to provide examples of well-structured business ideas before requesting input. This will guide the user toward clearer, more complete responses. Then, assess the completeness of their input, highlighting any missing key details such as market demand, competition, or scalability. Provide an initial feasibility rating based only on explicit user-provided information and conclude with a high-level recommendation on whether further structured evaluation is necessary.\"\n",
    "\"\"\""
   ]
  },
  {
   "cell_type": "code",
   "execution_count": 3,
   "metadata": {},
   "outputs": [
    {
     "name": "stdout",
     "output_type": "stream",
     "text": [
      "{'model': 'llama3.3:latest', 'prompt': '**System Role:**  \\n\"You are an AI business evaluation assistant. Your objective is to determine the viability of a software business idea by gathering structured details from the user and assessing feasibility. Use few-shot prompting to provide examples of well-structured business ideas before requesting input. This will guide the user toward clearer, more complete responses. Then, assess the completeness of their input, highlighting any missing key details such as market demand, competition, or scalability. Provide an initial feasibility rating based only on explicit user-provided information and conclude with a high-level recommendation on whether further structured evaluation is necessary.\"\\n\\n### **Few-Shot Prompt (Structured Evaluation with Examples)**  \\n\\n**System Role:**  \\n\"You are an AI business evaluation assistant. Your objective is to determine the viability of a software business idea by gathering structured details from the user and assessing feasibility. Use few-shot prompting to provide examples of well-structured business ideas before requesting input. This will guide the user toward clearer, more complete responses. Then, assess the completeness of their input, highlighting any missing key details such as market demand, competition, or scalability. Provide an initial feasibility rating based only on explicit user-provided information and conclude with a high-level recommendation on whether further structured evaluation is necessary.\"\\n\\n\\n**Examples:**  \\n\\n**Example 1:**  \\n**User Input:** \"I am building an AI-powered resume analyzer that helps job seekers tailor their applications. The software scans resumes, compares them against job descriptions, and suggests specific improvements to increase hiring chances. It is different because it provides real-time feedback instead of generic template-based suggestions. The target audience includes job seekers and HR professionals. The revenue model is a freemium approach, offering basic scanning for free and premium AI-driven insights as a paid subscription.\"  \\n\\n**AI Evaluation:**  \\n- **Problem Significance:** The problem is well-defined (job seekers struggle with optimizing resumes).  \\n- **Solution Feasibility:** Clearly articulated AI-powered solution, distinct from competitors.  \\n- **Market Relevance:** Strong market need with existing demand (LinkedIn optimization tools, resume-writing services).  \\n- **Gaps Identified:** Competitive landscape not mentioned. Monetization model feasible but needs validation.  \\n**Preliminary Feasibility Rating:** **Moderate** – Needs competitor analysis before moving forward.  \\n**Recommendation:** **Proceed with structured feasibility analysis.**  \\n\\n\\n**Example 2:**  \\n**User Input:** \"I want to create a social media platform for local businesses to connect with customers. The app allows businesses to post updates and users to find promotions nearby. It’s different from Facebook because it focuses only on businesses. The audience is small business owners and local shoppers. Revenue will come from business subscriptions.\"  \\n\\n**AI Evaluation:**  \\n- **Problem Significance:** Unclear if customers actively need another local business discovery tool.  \\n- **Solution Feasibility:** Lacks differentiation—Facebook and Yelp already provide similar services.  \\n- **Market Relevance:** Local business marketing is a crowded space; app adoption may be challenging.  \\n- **Gaps Identified:** No discussion on scalability, competitive barriers, or unique value proposition.  \\n**Preliminary Feasibility Rating:** **Low** – Lacks clear differentiation and market demand validation.  \\n**Recommendation:** **Reconsider or refine before further evaluation.**  \\n\\n\\n### **User Input Request (Now Asking for User\\'s Idea)**  \\n\"Now, describe your software business idea following the examples above. Include:  \\n- The problem it solves  \\n- How it is different from existing solutions  \\n- Who your target audience is  \\n- How you plan to generate revenue\"  \\n\\n---\\n\\n### **Steps to Implement and Test:**  \\n- Provide users with structured examples before prompting them for input.  \\n- Compare user responses to the examples and assess completeness, clarity, and relevance.  \\n- Identify missing details, such as unclear market focus or weak differentiation.  \\n- Log responses and analyze whether few-shot guidance improves response quality.  \\n- Compare against the baseline and analyze whether users struggle less with providing structured details.  \\n\\n---\\n\\n### **Guidelines for Analysis:**  \\n- Evaluate the business idea by identifying its core problem, proposed solution, and market relevance.  \\n- Extract the problem significance based on user input and determine if there is a clear market demand.  \\n- Assess whether the proposed solution introduces meaningful differentiation or novelty.  \\n- If competitor data is available, evaluate how existing solutions address this problem and whether the new concept has a competitive edge.  \\n- Provide an initial feasibility rating based on these factors, ensuring the assessment remains grounded in explicit user-provided information rather than assumptions.  \\n- Conclude with a high-level recommendation on whether further evaluation is warranted.  \\n\\n---\\n\\n### **Expected Outcome:**  \\nBy providing structured examples before prompting the user, their responses should be more complete and focused. Unlike the baseline test, where users may omit critical details, this approach should improve clarity and reduce the need for follow-up questions. The structured evaluation will also make it easier to compare responses against predefined feasibility criteria.', 'stream': False, 'options': {'temperature': 1.0, 'num_ctx': 100, 'num_predict': 100}}\n",
      "!!ERROR!! HTTP Response=500, {\"error\":\"timed out waiting for llama runner to start - progress 0.00 - error loading model: unable to allocate backend buffer\"}\n",
      "Time taken: -1s\n"
     ]
    }
   ],
   "source": [
    "##\n",
    "## FEW SHOTS PROMPTING\n",
    "##\n",
    "\n",
    "from _pipeline import create_payload, model_req\n",
    "\n",
    "#### (1) Adjust the inbounding  Prompt, simulating inbounding requests from users or other systems\n",
    "MESSAGE = structured_few_shot_prompt\n",
    "\n",
    "#### (2) Adjust the Prompt Engineering Technique to be applied, simulating Workflow Templates\n",
    "FEW_SHOT = SYSTEM_ROLE\n",
    "PROMPT = FEW_SHOT + '\\n' + MESSAGE \n",
    "\n",
    "#### (3) Configure the Model request, simulating Workflow Orchestration\n",
    "# Documentation: https://github.com/ollama/ollama/blob/main/docs/api.md\n",
    "payload = create_payload(target=\"ollama\",\n",
    "                         model=\"llama3.3:latest\", \n",
    "                         prompt=PROMPT, \n",
    "                         temperature=1.0, \n",
    "                         num_ctx=100, \n",
    "                         num_predict=100)\n",
    "\n",
    "### YOU DONT NEED TO CONFIGURE ANYTHING ELSE FROM THIS POINT\n",
    "# Send out to the model\n",
    "time, response = model_req(payload=payload)\n",
    "print(response)\n",
    "if time: print(f'Time taken: {time}s')"
   ]
  }
 ],
 "metadata": {
  "kernelspec": {
   "display_name": "PROMPTLABENV",
   "language": "python",
   "name": "python3"
  },
  "language_info": {
   "codemirror_mode": {
    "name": "ipython",
    "version": 3
   },
   "file_extension": ".py",
   "mimetype": "text/x-python",
   "name": "python",
   "nbconvert_exporter": "python",
   "pygments_lexer": "ipython3",
   "version": "3.11.5"
  }
 },
 "nbformat": 4,
 "nbformat_minor": 2
}
